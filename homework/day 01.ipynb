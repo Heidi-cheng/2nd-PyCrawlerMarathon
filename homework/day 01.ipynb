{
 "cells": [
  {
   "cell_type": "markdown",
   "metadata": {},
   "source": [
    "1.（簡答題）檔案、API、爬蟲三種取得資料方式有什麼不同？\n",
    "\n",
    "2.（實作）完成一個程式，需滿足下列需求：\n",
    "\n",
    "「下載指定檔案到 Data 資料夾，存成檔名 Homework.txt」的檔案網址：https://www.w3.org/TR/PNG/iso_8859-1.txt 或任一個 .txt 的檔案網址\n",
    "\n",
    "檢查 Data 資料夾是否有 Homework.txt 檔名之檔案\n",
    "\n",
    "將「Hello World」字串覆寫到 Homework.txt 檔案\n",
    "\n",
    "檢查 Homework.txt 檔案字數是否符合 Hello World 字數\n",
    "\n"
   ]
  },
  {
   "cell_type": "markdown",
   "metadata": {},
   "source": [
    "簡答題\n",
    "\n",
    "檔案:主動釋出的資料，格式含有常用的標準格式(CSV、JSON)。\n",
    "\n",
    "API:主動釋出的資料，可以選擇資料中的片段下載，不需要完整下載。\n",
    "\n",
    "爬蟲:被動釋出的資料，出現在網頁上。可以利用爬蟲將網頁資料進行解析。"
   ]
  },
  {
   "cell_type": "code",
   "execution_count": 14,
   "metadata": {},
   "outputs": [
    {
     "data": {
      "text/plain": [
       "('./data/Homework.txt', <http.client.HTTPMessage at 0x194cfe230f0>)"
      ]
     },
     "execution_count": 14,
     "metadata": {},
     "output_type": "execute_result"
    }
   ],
   "source": [
    "from urllib.request import urlretrieve\n",
    "\n",
    "urlretrieve(\"https://www.w3.org/TR/PNG/iso_8859-1.txt\",\"./Homework.txt\")\n",
    "urlretrieve(\"https://www.w3.org/TR/PNG/iso_8859-1.txt\",\"./data/Homework.txt\")"
   ]
  },
  {
   "cell_type": "code",
   "execution_count": 2,
   "metadata": {},
   "outputs": [
    {
     "name": "stdout",
     "output_type": "stream",
     "text": [
      "['.ipynb_checkpoints', 'data', 'day 01.ipynb', 'Homework.txt']\n",
      "['.ipynb_checkpoints', 'data', 'day 01.ipynb', 'Homework.txt']\n",
      "['.ipynb_checkpoints', 'data', 'day 01.ipynb', 'Homework.txt']\n",
      "['.ipynb_checkpoints', 'data', 'day 01.ipynb', 'Homework.txt']\n"
     ]
    }
   ],
   "source": [
    "import os,sys\n",
    "dirs = os.listdir('./') #listdir是固定的函式\n",
    "for file in dirs:\n",
    "    print(dirs)"
   ]
  },
  {
   "cell_type": "code",
   "execution_count": 16,
   "metadata": {},
   "outputs": [
    {
     "name": "stdout",
     "output_type": "stream",
     "text": [
      "11\n"
     ]
    }
   ],
   "source": [
    "import os\n",
    "fw = open(\"Homework.txt\",\"w\")\n",
    "f = fw.write(\"Hello world\")\n",
    "fw.close()\n",
    "print(f)\n",
    "#檢查字數"
   ]
  },
  {
   "cell_type": "code",
   "execution_count": 17,
   "metadata": {},
   "outputs": [
    {
     "name": "stdout",
     "output_type": "stream",
     "text": [
      "Hello world\n"
     ]
    }
   ],
   "source": [
    "import os \n",
    "fr = open(\"Homework.txt\",\"r\")\n",
    "f = fr.read()\n",
    "fr.close()\n",
    "print(f)\n",
    "#印出來"
   ]
  },
  {
   "cell_type": "code",
   "execution_count": 15,
   "metadata": {},
   "outputs": [
    {
     "name": "stdout",
     "output_type": "stream",
     "text": [
      "12\n",
      "hello python\n"
     ]
    }
   ],
   "source": [
    "#另一種寫法\n",
    "with open(\"Homework.txt\",\"w\") as fw:\n",
    "    f = fw.write(\"hello python\")\n",
    "    print(f)\n",
    "\n",
    "with open(\"Homework.txt\",\"r\") as fr:\n",
    "    f = fr.read()\n",
    "    print(f)"
   ]
  },
  {
   "cell_type": "code",
   "execution_count": null,
   "metadata": {},
   "outputs": [],
   "source": []
  }
 ],
 "metadata": {
  "kernelspec": {
   "display_name": "Python 3",
   "language": "python",
   "name": "python3"
  },
  "language_info": {
   "codemirror_mode": {
    "name": "ipython",
    "version": 3
   },
   "file_extension": ".py",
   "mimetype": "text/x-python",
   "name": "python",
   "nbconvert_exporter": "python",
   "pygments_lexer": "ipython3",
   "version": "3.7.3"
  }
 },
 "nbformat": 4,
 "nbformat_minor": 2
}
