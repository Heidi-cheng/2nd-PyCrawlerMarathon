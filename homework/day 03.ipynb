{
 "cells": [
  {
   "cell_type": "markdown",
   "metadata": {},
   "source": [
    "# Python 下載XML檔案與解析\n",
    "\n",
    "\n",
    "* 了解 xml 檔案格式與內容\n",
    "* 能夠利用套件存取 xml 格式的檔案\n"
   ]
  },
  {
   "cell_type": "markdown",
   "metadata": {},
   "source": [
    "## 作業目標\n",
    "\n",
    "* 比較一下範例檔案中的「File I/O」與「xmltodict」讀出來的內容有什麼差異\n",
    "\n",
    "* 根據範例檔案的結果：\n",
    "    1. 請問高雄市有多少地區有溫度資料？\n",
    "    2. 請取出每一個地區所記錄的第一個時間點跟溫度\n",
    "    3. 請取出第一個地區所記錄的每一個時間點跟溫度"
   ]
  },
  {
   "cell_type": "markdown",
   "metadata": {},
   "source": [
    "### 比較一下範例檔案中的「File I/O」與「xmltodict」讀出來的內容有什麼差異\n"
   ]
  },
  {
   "cell_type": "markdown",
   "metadata": {},
   "source": [
    "File I/O:\n",
    "原始的xml檔案格式\n",
    "\n",
    "xmltodict:\n",
    "解析xml用，僅印出搜尋之資訊"
   ]
  },
  {
   "cell_type": "markdown",
   "metadata": {},
   "source": [
    "### 根據範例檔案的結果：\n",
    "\n",
    "1. 請問高雄市有多少地區有溫度資料？\n",
    "2. 請取出每一個地區所記錄的第一個時間點跟溫度\n",
    "3. 請取出第一個地區所記錄的每一個時間點跟溫度"
   ]
  },
  {
   "cell_type": "code",
   "execution_count": 1,
   "metadata": {},
   "outputs": [
    {
     "name": "stdout",
     "output_type": "stream",
     "text": [
      "臺灣各縣市鄉鎮未來3天(72小時)逐3小時天氣預報\n",
      "鹽埕區\n",
      "\n",
      "38\n"
     ]
    }
   ],
   "source": [
    "# 1. 請問高雄市有多少地區有溫度資料？\n",
    "\n",
    "import xmltodict\n",
    "\n",
    "#存取檔案\n",
    "with open('./data/64_72hr_CH.xml',encoding=\"utf-8\")as tem:\n",
    "    doc = dict(xmltodict.parse(tem.read()))\n",
    "    \n",
    "print(doc['cwbopendata']['dataset']['datasetInfo']['datasetDescription'])\n",
    "\n",
    "locationName = doc['cwbopendata']['dataset']['locations']['location'][0]['locationName']\n",
    "print(locationName+\"\\n\")\n",
    "\n",
    "location = doc['cwbopendata']['dataset']['locations']['location']\n",
    "print(len(location))\n"
   ]
  },
  {
   "cell_type": "code",
   "execution_count": 4,
   "metadata": {},
   "outputs": [
    {
     "name": "stdout",
     "output_type": "stream",
     "text": [
      "2020-03-02T18:00:00+08:00\n",
      "2020-03-02T18:00:00+08:00\n",
      "2020-03-02T18:00:00+08:00\n",
      "2020-03-02T18:00:00+08:00\n",
      "2020-03-02T18:00:00+08:00\n",
      "2020-03-02T18:00:00+08:00\n",
      "2020-03-02T18:00:00+08:00\n",
      "2020-03-02T18:00:00+08:00\n",
      "2020-03-02T18:00:00+08:00\n",
      "2020-03-02T18:00:00+08:00\n",
      "2020-03-02T18:00:00+08:00\n",
      "2020-03-02T18:00:00+08:00\n",
      "2020-03-02T18:00:00+08:00\n",
      "2020-03-02T18:00:00+08:00\n",
      "2020-03-02T18:00:00+08:00\n",
      "2020-03-02T18:00:00+08:00\n",
      "2020-03-02T18:00:00+08:00\n",
      "2020-03-02T18:00:00+08:00\n",
      "2020-03-02T18:00:00+08:00\n",
      "2020-03-02T18:00:00+08:00\n",
      "2020-03-02T18:00:00+08:00\n",
      "2020-03-02T18:00:00+08:00\n",
      "2020-03-02T18:00:00+08:00\n",
      "2020-03-02T18:00:00+08:00\n",
      "2020-03-02T18:00:00+08:00\n",
      "2020-03-02T18:00:00+08:00\n",
      "2020-03-02T18:00:00+08:00\n",
      "2020-03-02T18:00:00+08:00\n",
      "2020-03-02T18:00:00+08:00\n",
      "2020-03-02T18:00:00+08:00\n",
      "2020-03-02T18:00:00+08:00\n",
      "2020-03-02T18:00:00+08:00\n",
      "2020-03-02T18:00:00+08:00\n",
      "2020-03-02T18:00:00+08:00\n",
      "2020-03-02T18:00:00+08:00\n",
      "2020-03-02T18:00:00+08:00\n",
      "2020-03-02T18:00:00+08:00\n",
      "2020-03-02T18:00:00+08:00\n",
      "23\n",
      "23\n",
      "23\n",
      "24\n",
      "23\n",
      "24\n",
      "23\n",
      "24\n",
      "24\n",
      "23\n",
      "24\n",
      "24\n",
      "24\n",
      "24\n",
      "24\n",
      "24\n",
      "24\n",
      "24\n",
      "24\n",
      "24\n",
      "24\n",
      "23\n",
      "23\n",
      "24\n",
      "23\n",
      "23\n",
      "23\n",
      "23\n",
      "23\n",
      "24\n",
      "25\n",
      "23\n",
      "22\n",
      "24\n",
      "24\n",
      "21\n",
      "20\n",
      "19\n"
     ]
    }
   ],
   "source": [
    "# 2. 請取出每一個地區所記錄的第一個時間點跟溫度\n",
    "\n",
    "#第一個時間點\n",
    "datatime = doc['cwbopendata']['dataset']['locations']['location'][0]['weatherElement'][0]['time'][0]['dataTime']\n",
    "#print(datatime)\n",
    "#print(len(datatime))\n",
    "for n in range(len(location)):\n",
    "    time_n = doc['cwbopendata']['dataset']['locations']['location'][n]['weatherElement'][0]['time'][0]['dataTime']\n",
    "    print(time_n)\n",
    "\n",
    "    \n",
    "#溫度\n",
    "datatemp = doc['cwbopendata']['dataset']['locations']['location'][0]['weatherElement'][0]['time'][0]['elementValue']['value']\n",
    "#print(datatemp)\n",
    "for n in range(len(location)):\n",
    "    temp_n = doc['cwbopendata']['dataset']['locations']['location'][n]['weatherElement'][0]['time'][0]['elementValue']['value']\n",
    "    print(temp_n)\n"
   ]
  },
  {
   "cell_type": "code",
   "execution_count": 7,
   "metadata": {},
   "outputs": [
    {
     "name": "stdout",
     "output_type": "stream",
     "text": [
      "2020-03-02T18:00:00+08:00\n",
      "2020-03-02T21:00:00+08:00\n",
      "2020-03-03T00:00:00+08:00\n",
      "2020-03-03T03:00:00+08:00\n",
      "2020-03-03T06:00:00+08:00\n",
      "2020-03-03T09:00:00+08:00\n",
      "2020-03-03T12:00:00+08:00\n",
      "2020-03-03T15:00:00+08:00\n",
      "2020-03-03T18:00:00+08:00\n",
      "2020-03-03T21:00:00+08:00\n",
      "2020-03-04T00:00:00+08:00\n",
      "2020-03-04T03:00:00+08:00\n",
      "2020-03-04T06:00:00+08:00\n",
      "2020-03-04T09:00:00+08:00\n",
      "2020-03-04T12:00:00+08:00\n",
      "2020-03-04T15:00:00+08:00\n",
      "2020-03-04T18:00:00+08:00\n",
      "2020-03-04T21:00:00+08:00\n",
      "2020-03-05T00:00:00+08:00\n",
      "2020-03-05T03:00:00+08:00\n",
      "2020-03-05T06:00:00+08:00\n",
      "2020-03-05T09:00:00+08:00\n",
      "2020-03-05T12:00:00+08:00\n",
      "2020-03-05T15:00:00+08:00\n",
      "23\n",
      "22\n",
      "21\n",
      "20\n",
      "20\n",
      "22\n",
      "26\n",
      "26\n",
      "24\n",
      "23\n",
      "22\n",
      "21\n",
      "20\n",
      "23\n",
      "27\n",
      "27\n",
      "24\n",
      "22\n",
      "21\n",
      "20\n",
      "19\n",
      "21\n",
      "24\n",
      "24\n"
     ]
    }
   ],
   "source": [
    "# 3. 請取出第一個地區所記錄的每一個時間點跟溫度\n",
    "\n",
    "#每一個時間點\n",
    "datatime = doc['cwbopendata']['dataset']['locations']['location'][0]['weatherElement'][0]['time']\n",
    "#print(len(datatime))\n",
    "for n in range(len(datatime)):\n",
    "    time_n = doc['cwbopendata']['dataset']['locations']['location'][0]['weatherElement'][0]['time'][n]['dataTime']\n",
    "    print(time_n)\n",
    "\n",
    "#每一個時間點的溫度\n",
    "for n in range(len(datatime)):\n",
    "    temp_n = doc['cwbopendata']['dataset']['locations']['location'][0]['weatherElement'][0]['time'][n]['elementValue']['value']\n",
    "    print(temp_n)"
   ]
  },
  {
   "cell_type": "code",
   "execution_count": null,
   "metadata": {},
   "outputs": [],
   "source": []
  }
 ],
 "metadata": {
  "kernelspec": {
   "display_name": "Python 3",
   "language": "python",
   "name": "python3"
  },
  "language_info": {
   "codemirror_mode": {
    "name": "ipython",
    "version": 3
   },
   "file_extension": ".py",
   "mimetype": "text/x-python",
   "name": "python",
   "nbconvert_exporter": "python",
   "pygments_lexer": "ipython3",
   "version": "3.7.3"
  }
 },
 "nbformat": 4,
 "nbformat_minor": 2
}
